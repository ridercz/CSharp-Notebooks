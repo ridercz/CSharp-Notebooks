{
 "cells": [
  {
   "cell_type": "markdown",
   "metadata": {
    "dotnet_interactive": {
     "language": "csharp"
    }
   },
   "source": [
    "# Kurzy ČNB\n",
    "\n",
    "Toto demo natáhne do notebooku a databáze kurzy ČNB za posledních 30 dnů."
   ]
  },
  {
   "cell_type": "markdown",
   "metadata": {},
   "source": [
    "\n",
    "## Inicializovat databázi\n",
    "\n",
    "Nejprve načteme podporu pro SQL Server. Zároveň i NuGet balíček pro práci se SQL Serverem z C#, protože pokud ho přidáme později, restartuje se aplikace a přijdeme o proměnné."
   ]
  },
  {
   "cell_type": "code",
   "execution_count": null,
   "metadata": {
    "dotnet_interactive": {
     "language": "csharp"
    },
    "vscode": {
     "languageId": "dotnet-interactive.csharp"
    }
   },
   "outputs": [],
   "source": [
    "#r \"nuget:Microsoft.DotNet.Interactive.SqlServer,*-*\"\n",
    "#r \"nuget:System.Data.SqlClient\""
   ]
  },
  {
   "cell_type": "markdown",
   "metadata": {},
   "source": [
    "Nyní definujeme připojení `kurzyCnb`. Do connection stringu se nezadává databáze, protože v tuto chvíli nemusí existovat."
   ]
  },
  {
   "cell_type": "code",
   "execution_count": null,
   "metadata": {
    "dotnet_interactive": {
     "language": "csharp"
    },
    "vscode": {
     "languageId": "dotnet-interactive.csharp"
    }
   },
   "outputs": [],
   "source": [
    "#!connect mssql --kernel-name kurzyCnb \"SERVER=.\\SqlExpress;TRUSTED_CONNECTION=yes\""
   ]
  },
  {
   "cell_type": "markdown",
   "metadata": {},
   "source": [
    "\n",
    "Pokud již existuje, smažeme databázi KurzyCNB. Poté vytvoříme novou prázdnou."
   ]
  },
  {
   "cell_type": "code",
   "execution_count": null,
   "metadata": {
    "dotnet_interactive": {
     "language": "sql"
    },
    "vscode": {
     "languageId": "dotnet-interactive.sql"
    }
   },
   "outputs": [],
   "source": [
    "#!sql-kurzyCnb\n",
    "\n",
    "-- Drop current database\n",
    "IF DB_ID('KurzyCNB') IS NOT NULL BEGIN\n",
    "    USE master\n",
    "    ALTER DATABASE KurzyCNB SET SINGLE_USER WITH ROLLBACK IMMEDIATE\n",
    "    DROP DATABASE KurzyCNB\n",
    "END\n",
    "\n",
    "-- Create a new database\n",
    "CREATE DATABASE KurzyCNB\n",
    "GO\n",
    "\n",
    "-- Use the newly created database\n",
    "USE KurzyCNB"
   ]
  },
  {
   "cell_type": "markdown",
   "metadata": {},
   "source": [
    "\n",
    "Vytvoříme databázovou strukturu (tabulku `ExchangeRates`)."
   ]
  },
  {
   "cell_type": "code",
   "execution_count": null,
   "metadata": {
    "dotnet_interactive": {
     "language": "sql"
    },
    "vscode": {
     "languageId": "dotnet-interactive.sql"
    }
   },
   "outputs": [],
   "source": [
    "#!sql-kurzyCnb\n",
    "\n",
    "CREATE TABLE [DailyExchangeRates] (\n",
    "    [Date]  datetime        not null,\n",
    "    [USD]   decimal(10, 3)  not null,\n",
    "    [EUR]   decimal(10, 3)  not null,\n",
    "    [GBP]   decimal(10, 3)  not null,\n",
    ")"
   ]
  },
  {
   "cell_type": "markdown",
   "metadata": {},
   "source": [
    "## Zkusit API \n",
    "\n",
    "Vytvoříme instanci WebClienta a zkusíme stáhnout dnešní kurzy z ČNB, abychom se podívali na data."
   ]
  },
  {
   "cell_type": "code",
   "execution_count": null,
   "metadata": {
    "dotnet_interactive": {
     "language": "csharp"
    },
    "vscode": {
     "languageId": "dotnet-interactive.csharp"
    }
   },
   "outputs": [],
   "source": [
    "var apiUrl = \"https://www.cnb.cz/cs/financni_trhy/devizovy_trh/kurzy_devizoveho_trhu/denni_kurz.txt?date={0:dd\\\\.MM\\\\.yyyy}\";\n",
    "var wc = new System.Net.Http.HttpClient();\n",
    "var csv = await wc.GetStringAsync(string.Format(apiUrl, DateTime.Today));\n",
    "\n",
    "csv"
   ]
  },
  {
   "cell_type": "markdown",
   "metadata": {},
   "source": [
    "Napíšeme jednoduchý parser, který data rozloží na řádky a poté na pole."
   ]
  },
  {
   "cell_type": "code",
   "execution_count": null,
   "metadata": {
    "dotnet_interactive": {
     "language": "csharp"
    },
    "vscode": {
     "languageId": "dotnet-interactive.csharp"
    }
   },
   "outputs": [],
   "source": [
    "var csvLines = csv.Split('\\n').Skip(2);\n",
    "var csvData = csvLines.Select(x => x.Split('|'));\n",
    "\n",
    "csvData"
   ]
  },
  {
   "cell_type": "markdown",
   "metadata": {},
   "source": [
    "Zkusíme si vyhledat hodnotu kurzu EUR a proparsovat ho jako desetinné číslo. Použijeme českou kulturu, kvůli desetinné čárce.\n"
   ]
  },
  {
   "cell_type": "code",
   "execution_count": null,
   "metadata": {
    "dotnet_interactive": {
     "language": "csharp"
    },
    "vscode": {
     "languageId": "dotnet-interactive.csharp"
    }
   },
   "outputs": [],
   "source": [
    "var czechCulture = System.Globalization.CultureInfo.GetCultureInfo(\"cs-CZ\");\n",
    "var value = decimal.Parse(csvData.First(x => x[3].Equals(\"EUR\"))[4], czechCulture);\n",
    "\n",
    "value"
   ]
  },
  {
   "cell_type": "markdown",
   "metadata": {},
   "source": [
    "## Načíst z API data za posledních 30 dnů\n",
    "\n",
    "Vytvoříme strukturu `DailyExchangeRate`, která bude držet informace o kurzech z jednoho dne."
   ]
  },
  {
   "cell_type": "code",
   "execution_count": null,
   "metadata": {
    "dotnet_interactive": {
     "language": "csharp"
    },
    "vscode": {
     "languageId": "dotnet-interactive.csharp"
    }
   },
   "outputs": [],
   "source": [
    "struct DailyExchangeRate {\n",
    "    public DateTime Date;\n",
    "    public decimal Usd;\n",
    "    public decimal Eur;\n",
    "    public decimal Gbp;\n",
    "}"
   ]
  },
  {
   "cell_type": "markdown",
   "metadata": {},
   "source": [
    "Ve smyčce načteme data za posledních 30 dnů."
   ]
  },
  {
   "cell_type": "code",
   "execution_count": null,
   "metadata": {
    "dotnet_interactive": {
     "language": "csharp"
    },
    "vscode": {
     "languageId": "dotnet-interactive.csharp"
    }
   },
   "outputs": [],
   "source": [
    "var exchangeRates = new List<DailyExchangeRate>();\n",
    "var days = 30;\n",
    "\n",
    "for(var i = -days + 1; i <=0; i++) {\n",
    "    var date = DateTime.Today.AddDays(i);\n",
    "    var csv = await wc.GetStringAsync(string.Format(apiUrl, date));\n",
    "    var csvLines = csv.Split('\\n').Skip(2);\n",
    "    var csvData = csvLines.Select(x => x.Split('|'));\n",
    "    exchangeRates.Add(new DailyExchangeRate {\n",
    "        Date = date, \n",
    "        Usd = decimal.Parse(csvData.First(x => x[3].Equals(\"USD\"))[4], czechCulture),\n",
    "        Eur = decimal.Parse(csvData.First(x => x[3].Equals(\"EUR\"))[4], czechCulture),\n",
    "        Gbp = decimal.Parse(csvData.First(x => x[3].Equals(\"GBP\"))[4], czechCulture),\n",
    "    });\n",
    "}\n",
    "\n",
    "exchangeRates"
   ]
  },
  {
   "cell_type": "markdown",
   "metadata": {},
   "source": [
    "## Uložit tato data do databáze\n",
    "\n",
    "Připravíme si databázi a parametrický dotaz:"
   ]
  },
  {
   "cell_type": "code",
   "execution_count": null,
   "metadata": {
    "dotnet_interactive": {
     "language": "csharp"
    },
    "vscode": {
     "languageId": "dotnet-interactive.csharp"
    }
   },
   "outputs": [],
   "source": [
    "using System.Data;\n",
    "using System.Data.SqlClient;\n",
    "\n",
    "var db = new SqlConnection(\"SERVER=.\\\\SqlExpress;TRUSTED_CONNECTION=yes;DATABASE=KurzyCNB\");\n",
    "// Prepare SQL Command\n",
    "var cmd = db.CreateCommand();\n",
    "cmd.CommandText = \"INSERT INTO DailyExchangeRates (Date, USD, EUR, GBP) VALUES (@Datum, @USD, @EUR, @GBP)\";\n",
    "cmd.Parameters.Add(new SqlParameter(\"@Datum\", SqlDbType.DateTime));\n",
    "cmd.Parameters.Add(new SqlParameter(\"@USD\", SqlDbType.Decimal));\n",
    "cmd.Parameters.Add(new SqlParameter(\"@EUR\", SqlDbType.Decimal));\n",
    "cmd.Parameters.Add(new SqlParameter(\"@GBP\", SqlDbType.Decimal));"
   ]
  },
  {
   "cell_type": "markdown",
   "metadata": {},
   "source": [
    "Postupně nahrneme data do databáze."
   ]
  },
  {
   "cell_type": "code",
   "execution_count": null,
   "metadata": {
    "dotnet_interactive": {
     "language": "csharp"
    },
    "vscode": {
     "languageId": "dotnet-interactive.csharp"
    }
   },
   "outputs": [],
   "source": [
    "db.Open();\n",
    "\n",
    "foreach(var dayRate in exchangeRates){\n",
    "    cmd.Parameters[\"@Datum\"].Value = dayRate.Date;\n",
    "    cmd.Parameters[\"@USD\"].Value = dayRate.Usd;\n",
    "    cmd.Parameters[\"@EUR\"].Value = dayRate.Eur;\n",
    "    cmd.Parameters[\"@GBP\"].Value = dayRate.Gbp;\n",
    "    await cmd.ExecuteNonQueryAsync();\n",
    "}\n",
    "\n",
    "db.Close();"
   ]
  },
  {
   "cell_type": "markdown",
   "metadata": {},
   "source": [
    "Ověříme že data jsou skutečně v databázi"
   ]
  },
  {
   "cell_type": "code",
   "execution_count": null,
   "metadata": {
    "dotnet_interactive": {
     "language": "sql"
    },
    "vscode": {
     "languageId": "dotnet-interactive.sql"
    }
   },
   "outputs": [],
   "source": [
    "#!sql-kurzyCnb\n",
    "\n",
    "SELECT * FROM DailyExchangeRates"
   ]
  },
  {
   "cell_type": "markdown",
   "metadata": {
    "dotnet_interactive": {
     "language": "sql"
    }
   },
   "source": [
    "## Použít Entity Framework\n",
    "\n",
    "Definujeme připojení do DB a tentokrát vytvoříme i DB Context:"
   ]
  },
  {
   "cell_type": "code",
   "execution_count": null,
   "metadata": {
    "dotnet_interactive": {
     "language": "csharp"
    },
    "vscode": {
     "languageId": "dotnet-interactive.csharp"
    }
   },
   "outputs": [],
   "source": [
    "#!connect mssql --create-dbcontext --kernel-name kurzyCnbDc \"SERVER=.\\SqlExpress;TRUSTED_CONNECTION=yes;DATABASE=KurzyCNB\""
   ]
  },
  {
   "cell_type": "markdown",
   "metadata": {},
   "source": [
    "\n",
    "Nyní se můžeme dotazovat do databázové struktury pomocí EF/LINQ:"
   ]
  },
  {
   "cell_type": "code",
   "execution_count": null,
   "metadata": {
    "dotnet_interactive": {
     "language": "csharp"
    },
    "vscode": {
     "languageId": "dotnet-interactive.csharp"
    }
   },
   "outputs": [],
   "source": [
    "var kurzy = kurzyCnbDc.DailyExchangeRates.OrderByDescending(x => x.Date);\n",
    "\n",
    "kurzy"
   ]
  },
  {
   "cell_type": "code",
   "execution_count": null,
   "metadata": {
    "dotnet_interactive": {
     "language": "csharp"
    },
    "vscode": {
     "languageId": "dotnet-interactive.csharp"
    }
   },
   "outputs": [],
   "source": [
    "var nejlevnejsiEur = kurzyCnbDc.DailyExchangeRates.OrderBy( x => x.Eur).Select(x => new {x.Date, x.Eur}).First();\n",
    "\n",
    "nejlevnejsiEur"
   ]
  }
 ],
 "metadata": {
  "kernelspec": {
   "display_name": ".NET (C#)",
   "language": "C#",
   "name": ".net-csharp"
  },
  "language_info": {
   "file_extension": ".cs",
   "mimetype": "text/x-csharp",
   "name": "C#",
   "pygments_lexer": "csharp",
   "version": "9.0"
  },
  "orig_nbformat": 2
 },
 "nbformat": 4,
 "nbformat_minor": 2
}
