{
 "cells": [
  {
   "cell_type": "markdown",
   "metadata": {},
   "source": [
    "# Using GZIP\n",
    "\n",
    "Although ZIP archives are widespread, in many contexts (especially on Unix-like platforms) you'll encounter different format: the GZIP compression combined by TAR format - these files usually have the `.tar.gz` compression.\n",
    "\n",
    "GZIP is compression algorithm that does work on streams. On itself, it does not handle multiple files in archive etc. -- it has no knowledge of \"files\", just stream data.\n",
    "\n",
    "Let's use GZIP to compress a single file:"
   ]
  },
  {
   "cell_type": "code",
   "execution_count": 3,
   "metadata": {
    "dotnet_interactive": {
     "language": "csharp"
    },
    "polyglot_notebook": {
     "kernelName": "csharp"
    },
    "vscode": {
     "languageId": "polyglot-notebook"
    }
   },
   "outputs": [
    {
     "name": "stdout",
     "output_type": "stream",
     "text": [
      "Original size:   3438 bytes\n",
      "Compressed size: 1006 bytes\n"
     ]
    }
   ],
   "source": [
    "using System.IO;\n",
    "using System.IO.Compression;\n",
    "\n",
    "var sourcePath = @\"C:\\Users\\Altair\\Source\\Repos\\CSharp-Notebooks\\Concepts\\GZIP.ipynb\";\n",
    "var targetPath = @\"C:\\Users\\Altair\\Source\\Repos\\CSharp-Notebooks\\Concepts\\GZIP.ipynb.gz\";\n",
    "\n",
    "using (FileStream sourceStream = File.OpenRead(sourcePath)) \n",
    "using (FileStream targetStream = File.Create(targetPath)) \n",
    "using (GZipStream gzipStream = new GZipStream(targetStream, CompressionMode.Compress)) {\n",
    "    sourceStream.CopyTo(gzipStream);\n",
    "}\n",
    "\n",
    "Console.WriteLine($\"Original size:   {new FileInfo(sourcePath).Length} bytes\");\n",
    "Console.WriteLine($\"Compressed size: {new FileInfo(targetPath).Length} bytes\");"
   ]
  },
  {
   "cell_type": "markdown",
   "metadata": {},
   "source": [
    "We can decompress the file in similar way - just change the compression mode and direction:"
   ]
  },
  {
   "cell_type": "code",
   "execution_count": 4,
   "metadata": {
    "dotnet_interactive": {
     "language": "csharp"
    },
    "polyglot_notebook": {
     "kernelName": "csharp"
    },
    "vscode": {
     "languageId": "polyglot-notebook"
    }
   },
   "outputs": [
    {
     "name": "stdout",
     "output_type": "stream",
     "text": [
      "Compressed size: 1006 bytes\n",
      "Original size:   3438 bytes\n"
     ]
    }
   ],
   "source": [
    "var sourcePath = @\"C:\\Users\\Altair\\Source\\Repos\\CSharp-Notebooks\\Concepts\\GZIP.ipynb.gz\";\n",
    "var targetPath = @\"C:\\Users\\Altair\\Source\\Repos\\CSharp-Notebooks\\Concepts\\GZIP-new.ipynb\";\n",
    "\n",
    "using (FileStream sourceStream = File.OpenRead(sourcePath)) \n",
    "using (FileStream targetStream = File.Create(targetPath)) \n",
    "using (GZipStream gzipStream = new GZipStream(sourceStream, CompressionMode.Decompress)) {\n",
    "    gzipStream.CopyTo(targetStream);\n",
    "}\n",
    "\n",
    "Console.WriteLine($\"Compressed size: {new FileInfo(sourcePath).Length} bytes\");\n",
    "Console.WriteLine($\"Original size:   {new FileInfo(targetPath).Length} bytes\");\n",
    "\n",
    "// Clean up\n",
    "File.Delete(sourcePath);\n",
    "File.Delete(targetPath);"
   ]
  },
  {
   "cell_type": "markdown",
   "metadata": {},
   "source": [
    "> Sample for TAR + GZIP in C# can be found in [this gist](https://gist.github.com/ridercz/a728843c4409e7d1534d10b145de751e). I cannot include it in notebook, because it requires newer version of .NET than is available in .NET Interactive."
   ]
  }
 ],
 "metadata": {
  "language_info": {
   "name": "csharp"
  },
  "orig_nbformat": 4
 },
 "nbformat": 4,
 "nbformat_minor": 2
}
