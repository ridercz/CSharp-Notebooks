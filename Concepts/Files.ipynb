{
 "cells": [
  {
   "cell_type": "markdown",
   "metadata": {},
   "source": [
    "# Working with file data in C#"
   ]
  },
  {
   "cell_type": "markdown",
   "metadata": {},
   "source": [
    "Everything we need to work with files and file system is in namespace `System.IO`. So we start with importing it:"
   ]
  },
  {
   "cell_type": "code",
   "execution_count": 8,
   "metadata": {
    "dotnet_interactive": {
     "language": "csharp"
    },
    "polyglot_notebook": {
     "kernelName": "csharp"
    },
    "vscode": {
     "languageId": "polyglot-notebook"
    }
   },
   "outputs": [],
   "source": [
    "using System.IO;"
   ]
  },
  {
   "cell_type": "markdown",
   "metadata": {},
   "source": [
    "## Text files"
   ]
  },
  {
   "cell_type": "markdown",
   "metadata": {},
   "source": [
    "One of the most common tasks is to read and write strings. For smaller amount of data -- small enough to be held in memory at once -- there are high-level APIs `WriteAllText` and `ReadAllText`. They allow writing/reading of strings with a single line of code:"
   ]
  },
  {
   "cell_type": "code",
   "execution_count": 9,
   "metadata": {
    "dotnet_interactive": {
     "language": "csharp"
    },
    "polyglot_notebook": {
     "kernelName": "csharp"
    },
    "vscode": {
     "languageId": "polyglot-notebook"
    }
   },
   "outputs": [
    {
     "data": {
      "text/plain": [
       "Hello, world!"
      ]
     },
     "metadata": {},
     "output_type": "display_data"
    }
   ],
   "source": [
    "// WriteAllText will write string to a text file\n",
    "// Existing file is silently overwritten, non-existing file is created\n",
    "var s1 = \"Hello, world!\";\n",
    "File.WriteAllText(\"demo.txt\", s1);\n",
    "\n",
    "// ReadAllText will read string from a text file\n",
    "var s2 = File.ReadAllText(\"demo.txt\");\n",
    "s2"
   ]
  },
  {
   "cell_type": "markdown",
   "metadata": {},
   "source": [
    "Attempt to read non-existing file will result in `FileNotFoundException`:"
   ]
  },
  {
   "cell_type": "code",
   "execution_count": 10,
   "metadata": {
    "dotnet_interactive": {
     "language": "csharp"
    },
    "polyglot_notebook": {
     "kernelName": "csharp"
    },
    "vscode": {
     "languageId": "polyglot-notebook"
    }
   },
   "outputs": [
    {
     "ename": "Error",
     "evalue": "System.IO.FileNotFoundException: Could not find file 'c:\\Users\\Altair\\Source\\Repos\\CSharp-Notebooks\\Concepts\\notfound.txt'.\r\nFile name: 'c:\\Users\\Altair\\Source\\Repos\\CSharp-Notebooks\\Concepts\\notfound.txt'\r\n   at Microsoft.Win32.SafeHandles.SafeFileHandle.CreateFile(String fullPath, FileMode mode, FileAccess access, FileShare share, FileOptions options)\r\n   at Microsoft.Win32.SafeHandles.SafeFileHandle.Open(String fullPath, FileMode mode, FileAccess access, FileShare share, FileOptions options, Int64 preallocationSize, Nullable`1 unixCreateMode)\r\n   at System.IO.Strategies.OSFileStreamStrategy..ctor(String path, FileMode mode, FileAccess access, FileShare share, FileOptions options, Int64 preallocationSize, Nullable`1 unixCreateMode)\r\n   at System.IO.Strategies.FileStreamHelpers.ChooseStrategyCore(String path, FileMode mode, FileAccess access, FileShare share, FileOptions options, Int64 preallocationSize, Nullable`1 unixCreateMode)\r\n   at System.IO.StreamReader.ValidateArgsAndOpenPath(String path, Encoding encoding, Int32 bufferSize)\r\n   at System.IO.File.ReadAllText(String path, Encoding encoding)\r\n   at Submission#11.<<Initialize>>d__0.MoveNext()\r\n--- End of stack trace from previous location ---\r\n   at Microsoft.CodeAnalysis.Scripting.ScriptExecutionState.RunSubmissionsAsync[TResult](ImmutableArray`1 precedingExecutors, Func`2 currentExecutor, StrongBox`1 exceptionHolderOpt, Func`2 catchExceptionOpt, CancellationToken cancellationToken)",
     "output_type": "error",
     "traceback": [
      "System.IO.FileNotFoundException: Could not find file 'c:\\Users\\Altair\\Source\\Repos\\CSharp-Notebooks\\Concepts\\notfound.txt'.\r\n",
      "File name: 'c:\\Users\\Altair\\Source\\Repos\\CSharp-Notebooks\\Concepts\\notfound.txt'\r\n",
      "   at Microsoft.Win32.SafeHandles.SafeFileHandle.CreateFile(String fullPath, FileMode mode, FileAccess access, FileShare share, FileOptions options)\r\n",
      "   at Microsoft.Win32.SafeHandles.SafeFileHandle.Open(String fullPath, FileMode mode, FileAccess access, FileShare share, FileOptions options, Int64 preallocationSize, Nullable`1 unixCreateMode)\r\n",
      "   at System.IO.Strategies.OSFileStreamStrategy..ctor(String path, FileMode mode, FileAccess access, FileShare share, FileOptions options, Int64 preallocationSize, Nullable`1 unixCreateMode)\r\n",
      "   at System.IO.Strategies.FileStreamHelpers.ChooseStrategyCore(String path, FileMode mode, FileAccess access, FileShare share, FileOptions options, Int64 preallocationSize, Nullable`1 unixCreateMode)\r\n",
      "   at System.IO.StreamReader.ValidateArgsAndOpenPath(String path, Encoding encoding, Int32 bufferSize)\r\n",
      "   at System.IO.File.ReadAllText(String path, Encoding encoding)\r\n",
      "   at Submission#11.<<Initialize>>d__0.MoveNext()\r\n",
      "--- End of stack trace from previous location ---\r\n",
      "   at Microsoft.CodeAnalysis.Scripting.ScriptExecutionState.RunSubmissionsAsync[TResult](ImmutableArray`1 precedingExecutors, Func`2 currentExecutor, StrongBox`1 exceptionHolderOpt, Func`2 catchExceptionOpt, CancellationToken cancellationToken)"
     ]
    }
   ],
   "source": [
    "File.ReadAllText(\"notfound.txt\")"
   ]
  },
  {
   "cell_type": "markdown",
   "metadata": {},
   "source": [
    "With text files we often want to process file contents by lines. That's why we have the `ReadAllLines` and `WriteAllLines` methods. They work exactly as the previous, but use `string[]` or `IEnumerable<string>`:"
   ]
  },
  {
   "cell_type": "code",
   "execution_count": 11,
   "metadata": {
    "dotnet_interactive": {
     "language": "csharp"
    },
    "polyglot_notebook": {
     "kernelName": "csharp"
    },
    "vscode": {
     "languageId": "polyglot-notebook"
    }
   },
   "outputs": [
    {
     "data": {
      "text/html": [
       "<div class=\"dni-plaintext\"><pre>[ Lorem ipsum, Dolor sit amet, Consectetur adipiscing elit ]</pre></div><style>\r\n",
       ".dni-code-hint {\r\n",
       "    font-style: italic;\r\n",
       "    overflow: hidden;\r\n",
       "    white-space: nowrap;\r\n",
       "}\r\n",
       ".dni-treeview {\r\n",
       "    white-space: nowrap;\r\n",
       "}\r\n",
       ".dni-treeview td {\r\n",
       "    vertical-align: top;\r\n",
       "    text-align: start;\r\n",
       "}\r\n",
       "details.dni-treeview {\r\n",
       "    padding-left: 1em;\r\n",
       "}\r\n",
       "table td {\r\n",
       "    text-align: start;\r\n",
       "}\r\n",
       "table tr { \r\n",
       "    vertical-align: top; \r\n",
       "    margin: 0em 0px;\r\n",
       "}\r\n",
       "table tr td pre \r\n",
       "{ \r\n",
       "    vertical-align: top !important; \r\n",
       "    margin: 0em 0px !important;\r\n",
       "} \r\n",
       "table th {\r\n",
       "    text-align: start;\r\n",
       "}\r\n",
       "</style>"
      ]
     },
     "metadata": {},
     "output_type": "display_data"
    }
   ],
   "source": [
    "File.ReadAllLines(\"Files-CRLF.txt\")"
   ]
  },
  {
   "cell_type": "markdown",
   "metadata": {},
   "source": [
    "Windows uses the `CRLF` sequence as line separator and Linux and Mac uses `LF`. The `WriteAllLines` method uses the separator appropriate for the platform the code is running on. The `ReadAllLines` method accepts both. The previous file used `CRLF`, the next one uses just `LF` and the results would be identical."
   ]
  },
  {
   "cell_type": "code",
   "execution_count": 12,
   "metadata": {
    "dotnet_interactive": {
     "language": "csharp"
    },
    "polyglot_notebook": {
     "kernelName": "csharp"
    },
    "vscode": {
     "languageId": "polyglot-notebook"
    }
   },
   "outputs": [
    {
     "data": {
      "text/html": [
       "<div class=\"dni-plaintext\"><pre>[ Lorem ipsum, Dolor sit amet, Consectetur adipiscing elit ]</pre></div><style>\r\n",
       ".dni-code-hint {\r\n",
       "    font-style: italic;\r\n",
       "    overflow: hidden;\r\n",
       "    white-space: nowrap;\r\n",
       "}\r\n",
       ".dni-treeview {\r\n",
       "    white-space: nowrap;\r\n",
       "}\r\n",
       ".dni-treeview td {\r\n",
       "    vertical-align: top;\r\n",
       "    text-align: start;\r\n",
       "}\r\n",
       "details.dni-treeview {\r\n",
       "    padding-left: 1em;\r\n",
       "}\r\n",
       "table td {\r\n",
       "    text-align: start;\r\n",
       "}\r\n",
       "table tr { \r\n",
       "    vertical-align: top; \r\n",
       "    margin: 0em 0px;\r\n",
       "}\r\n",
       "table tr td pre \r\n",
       "{ \r\n",
       "    vertical-align: top !important; \r\n",
       "    margin: 0em 0px !important;\r\n",
       "} \r\n",
       "table th {\r\n",
       "    text-align: start;\r\n",
       "}\r\n",
       "</style>"
      ]
     },
     "metadata": {},
     "output_type": "display_data"
    }
   ],
   "source": [
    "File.ReadAllLines(\"Files-LF.txt\")"
   ]
  },
  {
   "cell_type": "markdown",
   "metadata": {},
   "source": [
    "There is also method `ReadLines` which returns `IEnumerable<string>` instead of `string[]` and allows reading lines one by one using enumerator, ie. in `foreach` loop:"
   ]
  },
  {
   "cell_type": "code",
   "execution_count": 13,
   "metadata": {
    "dotnet_interactive": {
     "language": "csharp"
    },
    "polyglot_notebook": {
     "kernelName": "csharp"
    },
    "vscode": {
     "languageId": "polyglot-notebook"
    }
   },
   "outputs": [
    {
     "name": "stdout",
     "output_type": "stream",
     "text": [
      "Lorem ipsum\n",
      "Dolor sit amet\n",
      "Consectetur adipiscing elit\n"
     ]
    }
   ],
   "source": [
    "var lines = File.ReadLines(\"Files-CRLF.txt\");\n",
    "foreach(var line in lines) {\n",
    "    Console.WriteLine(line);\n",
    "}"
   ]
  },
  {
   "cell_type": "markdown",
   "metadata": {},
   "source": [
    "Methods `AppendAllText` and `AppendAllLines` will append the string at end of existing file, instead of overwriting it. If the file does not exist, it's created. The following code will append current date and time at end of file every time it's run:"
   ]
  },
  {
   "cell_type": "code",
   "execution_count": 18,
   "metadata": {
    "dotnet_interactive": {
     "language": "csharp"
    },
    "polyglot_notebook": {
     "kernelName": "csharp"
    },
    "vscode": {
     "languageId": "polyglot-notebook"
    }
   },
   "outputs": [
    {
     "data": {
      "text/plain": [
       "02.08.2023 20:37:56\r\n",
       "02.08.2023 20:37:59\r\n",
       "02.08.2023 20:38:23\r\n",
       "02.08.2023 20:38:25\r\n",
       "02.08.2023 20:38:26\r\n",
       "02.08.2023 20:54:42\r\n",
       "02.08.2023 22:41:45\r\n",
       "02.08.2023 22:41:48\r\n",
       "02.08.2023 22:41:49\r\n",
       "02.08.2023 22:41:50\r\n",
       "02.08.2023 22:41:51\r\n"
      ]
     },
     "metadata": {},
     "output_type": "display_data"
    }
   ],
   "source": [
    "// Append line with current date and time\n",
    "File.AppendAllLines(\"append.txt\", new[] { DateTime.Now.ToString() });\n",
    "\n",
    "// Display contents of the file\n",
    "File.ReadAllText(\"append.txt\")"
   ]
  },
  {
   "cell_type": "markdown",
   "metadata": {},
   "source": [
    "### Character encoding"
   ]
  },
  {
   "cell_type": "markdown",
   "metadata": {},
   "source": [
    "\n",
    "The above methods all use the UTF-8 encoding without [BOM](https://en.wikipedia.org/wiki/Byte_order_mark). If you want to use different encoding, use different overloads accepting appropriate `System.Text.Encoding` instance: "
   ]
  },
  {
   "cell_type": "code",
   "execution_count": 19,
   "metadata": {
    "dotnet_interactive": {
     "language": "csharp"
    },
    "polyglot_notebook": {
     "kernelName": "csharp"
    },
    "vscode": {
     "languageId": "polyglot-notebook"
    }
   },
   "outputs": [],
   "source": [
    "// .NET supports only US-ASCII, Unicode and Latin1 encodings by default\n",
    "// To use legacy 1-byte encoding (like Windows-1250), we have to call the following method and register them explicitly:\n",
    "Encoding.RegisterProvider(CodePagesEncodingProvider.Instance);\n",
    "\n",
    "var s = \"Žluťoučký kůň úpěl ďábelské ódy.\";\n",
    "File.WriteAllText(\"Demo-UTF8-without-BOM.txt\", s);\n",
    "File.WriteAllText(\"Demo-UTF8-with-BOM.txt\", s, System.Text.Encoding.UTF8);\n",
    "File.WriteAllText(\"Demo-1250.txt\", s, System.Text.Encoding.GetEncoding(\"Windows-1250\"));"
   ]
  },
  {
   "cell_type": "markdown",
   "metadata": {},
   "source": [
    "The UTF encodings are detected automatically. The legacy encodings have to be specified explicitly, if they have to be understood correctly:"
   ]
  },
  {
   "cell_type": "code",
   "execution_count": 20,
   "metadata": {
    "dotnet_interactive": {
     "language": "csharp"
    },
    "polyglot_notebook": {
     "kernelName": "csharp"
    },
    "vscode": {
     "languageId": "polyglot-notebook"
    }
   },
   "outputs": [
    {
     "name": "stdout",
     "output_type": "stream",
     "text": [
      "Žluťoučký kůň úpěl ďábelské ódy.\n",
      "Žluťoučký kůň úpěl ďábelské ódy.\n",
      "�lu�ou�k� k�� �p�l ��belsk� �dy.\n",
      "Žluťoučký kůň úpěl ďábelské ódy.\n"
     ]
    }
   ],
   "source": [
    "// The following will work\n",
    "Console.WriteLine(File.ReadAllText(\"Demo-UTF8-without-BOM.txt\"));\n",
    "Console.WriteLine(File.ReadAllText(\"Demo-UTF8-with-BOM.txt\"));\n",
    "\n",
    "// The following won't, because the file was written using Windows-1250 encoding, but is read as Unicode:\n",
    "Console.WriteLine(File.ReadAllText(\"Demo-1250.txt\"));\n",
    "\n",
    "// To read it correctly, we have to specify the encoding explicitly\n",
    "Console.WriteLine(File.ReadAllText(\"Demo-1250.txt\", System.Text.Encoding.GetEncoding(\"Windows-1250\")));"
   ]
  },
  {
   "cell_type": "markdown",
   "metadata": {},
   "source": [
    "### Asynchronous methods"
   ]
  },
  {
   "cell_type": "markdown",
   "metadata": {},
   "source": [
    "\n",
    "The methods used until now are all synchronous. But for performance reasons, use of `async` method is generally advisable. Luckily, all the methods have they asynchronous variants:"
   ]
  },
  {
   "cell_type": "code",
   "execution_count": 21,
   "metadata": {
    "dotnet_interactive": {
     "language": "csharp"
    },
    "polyglot_notebook": {
     "kernelName": "csharp"
    },
    "vscode": {
     "languageId": "polyglot-notebook"
    }
   },
   "outputs": [
    {
     "data": {
      "text/plain": [
       "Hello, world!"
      ]
     },
     "metadata": {},
     "output_type": "display_data"
    }
   ],
   "source": [
    "var s1 = \"Hello, world!\";\n",
    "await File.WriteAllTextAsync(\"demo.txt\", s1);\n",
    "\n",
    "var s2 = await File.ReadAllTextAsync(\"demo.txt\");\n",
    "s2"
   ]
  },
  {
   "cell_type": "markdown",
   "metadata": {},
   "source": [
    "This is also true for all other file access methods mentioned in this tutorial, regardless of them working with text, binary data, streams, readers etc."
   ]
  },
  {
   "cell_type": "markdown",
   "metadata": {},
   "source": [
    "## Binary files"
   ]
  },
  {
   "cell_type": "markdown",
   "metadata": {},
   "source": [
    "\n",
    "The above methods work with text strings. If we want to write arbitrary binary data (represented as `byte[]` or similar), there are also methods for that. The are called `WriteAllBytes` and `ReadAllBytes`:"
   ]
  },
  {
   "cell_type": "code",
   "execution_count": 22,
   "metadata": {
    "dotnet_interactive": {
     "language": "csharp"
    },
    "polyglot_notebook": {
     "kernelName": "csharp"
    },
    "vscode": {
     "languageId": "polyglot-notebook"
    }
   },
   "outputs": [
    {
     "data": {
      "text/html": [
       "<div class=\"dni-plaintext\"><pre>[ 32, 172, 30, 158, 154, 233, 185, 151, 57, 151, 28, 148, 106, 207, 247, 217, 175, 164, 225, 124 ... (12 more) ]</pre></div><style>\r\n",
       ".dni-code-hint {\r\n",
       "    font-style: italic;\r\n",
       "    overflow: hidden;\r\n",
       "    white-space: nowrap;\r\n",
       "}\r\n",
       ".dni-treeview {\r\n",
       "    white-space: nowrap;\r\n",
       "}\r\n",
       ".dni-treeview td {\r\n",
       "    vertical-align: top;\r\n",
       "    text-align: start;\r\n",
       "}\r\n",
       "details.dni-treeview {\r\n",
       "    padding-left: 1em;\r\n",
       "}\r\n",
       "table td {\r\n",
       "    text-align: start;\r\n",
       "}\r\n",
       "table tr { \r\n",
       "    vertical-align: top; \r\n",
       "    margin: 0em 0px;\r\n",
       "}\r\n",
       "table tr td pre \r\n",
       "{ \r\n",
       "    vertical-align: top !important; \r\n",
       "    margin: 0em 0px !important;\r\n",
       "} \r\n",
       "table th {\r\n",
       "    text-align: start;\r\n",
       "}\r\n",
       "</style>"
      ]
     },
     "metadata": {},
     "output_type": "display_data"
    }
   ],
   "source": [
    "// Generate 32 bytes (256 bits) of random data\n",
    "var buffer = System.Security.Cryptography.RandomNumberGenerator.GetBytes(32);\n",
    "\n",
    "// Write those bytes to a file\n",
    "File.WriteAllBytes(\"random.bin\", buffer);\n",
    "\n",
    "// Read those bytes\n",
    "var readBuffer = File.ReadAllBytes(\"random.bin\");\n",
    "\n",
    "readBuffer"
   ]
  },
  {
   "cell_type": "markdown",
   "metadata": {},
   "source": [
    "Of course they also have their async variants:"
   ]
  },
  {
   "cell_type": "code",
   "execution_count": 23,
   "metadata": {
    "dotnet_interactive": {
     "language": "csharp"
    },
    "polyglot_notebook": {
     "kernelName": "csharp"
    },
    "vscode": {
     "languageId": "polyglot-notebook"
    }
   },
   "outputs": [
    {
     "data": {
      "text/html": [
       "<div class=\"dni-plaintext\"><pre>[ 32, 172, 30, 158, 154, 233, 185, 151, 57, 151, 28, 148, 106, 207, 247, 217, 175, 164, 225, 124 ... (12 more) ]</pre></div><style>\r\n",
       ".dni-code-hint {\r\n",
       "    font-style: italic;\r\n",
       "    overflow: hidden;\r\n",
       "    white-space: nowrap;\r\n",
       "}\r\n",
       ".dni-treeview {\r\n",
       "    white-space: nowrap;\r\n",
       "}\r\n",
       ".dni-treeview td {\r\n",
       "    vertical-align: top;\r\n",
       "    text-align: start;\r\n",
       "}\r\n",
       "details.dni-treeview {\r\n",
       "    padding-left: 1em;\r\n",
       "}\r\n",
       "table td {\r\n",
       "    text-align: start;\r\n",
       "}\r\n",
       "table tr { \r\n",
       "    vertical-align: top; \r\n",
       "    margin: 0em 0px;\r\n",
       "}\r\n",
       "table tr td pre \r\n",
       "{ \r\n",
       "    vertical-align: top !important; \r\n",
       "    margin: 0em 0px !important;\r\n",
       "} \r\n",
       "table th {\r\n",
       "    text-align: start;\r\n",
       "}\r\n",
       "</style>"
      ]
     },
     "metadata": {},
     "output_type": "display_data"
    }
   ],
   "source": [
    "await File.WriteAllBytesAsync(\"random.bin\", buffer);\n",
    "var readBufferAsync = await File.ReadAllBytesAsync(\"random.bin\");\n",
    "readBufferAsync"
   ]
  },
  {
   "cell_type": "markdown",
   "metadata": {},
   "source": [
    "## Streams"
   ]
  },
  {
   "cell_type": "markdown",
   "metadata": {},
   "source": [
    "\n",
    "The above methods all work with the data at once. Which is fine for data small enough to fit into RAM, but for bigger data we want to split them into more manageable chunks. That's what streams are for.\n",
    "\n",
    "The abstract class `System.IO.Stream` allows you to work with any kind of data sources, that can be sequentially read or written. If the implementation supports it, you can move the virtual \"cursor\" trough the stream back and forth. Using children of this class you can work with memory (`MemoryStream`), files (`FileStream`), network connection (`NetworkStream`) or more abstract concepts like archives or encryption algorithms.\n",
    "\n",
    "Let's create a new file and work with its contents a bit using `FileStream`:"
   ]
  },
  {
   "cell_type": "code",
   "execution_count": 24,
   "metadata": {
    "dotnet_interactive": {
     "language": "csharp"
    },
    "polyglot_notebook": {
     "kernelName": "csharp"
    },
    "vscode": {
     "languageId": "polyglot-notebook"
    }
   },
   "outputs": [
    {
     "name": "stdout",
     "output_type": "stream",
     "text": [
      "01 02 03 04 05 \n"
     ]
    }
   ],
   "source": [
    "// Let's create some data -- bytes with values from 0x01 to 0x0F:\n",
    "var buffer = new byte[] { 0x01, 0x02, 0x03, 0x04, 0x05, 0x06, 0x07, 0x08, 0x09, 0x0A, 0x0B, 0x0C, 0x0D, 0x0E, 0x0F };\n",
    "\n",
    "// Now we will create new file and access it as a stream\n",
    "var fs = File.Create(\"data.bin\");\n",
    "\n",
    "// Write first five bytes\n",
    "for(var i = 0; i < 5; i++){\n",
    "    fs.WriteByte(buffer[i]);\n",
    "}\n",
    "\n",
    "// Move cursor to the beginning of stream\n",
    "fs.Seek(0, SeekOrigin.Begin);\n",
    "\n",
    "// Read and display all bytes until the end of file\n",
    "while(true) {\n",
    "    var b = fs.ReadByte();\n",
    "    if(b == -1) {\n",
    "        // The ReadByte returns int; it's either value read (0-255) or -1 if at end of stream\n",
    "        Console.WriteLine();\n",
    "        break;\n",
    "    }\n",
    "    Console.Write(b.ToString(\"X2\") + \" \");\n",
    "}\n",
    "\n",
    "// If we opened the stream, we should close it, to save all changes and release the file\n",
    "fs.Close();"
   ]
  },
  {
   "cell_type": "markdown",
   "metadata": {},
   "source": [
    "There are various low-level methods for working with streams and you can find them in [documentation](https://learn.microsoft.com/en-us/dotnet/api/system.io.stream)."
   ]
  },
  {
   "cell_type": "markdown",
   "metadata": {},
   "source": [
    "### Readers and writers"
   ]
  },
  {
   "cell_type": "markdown",
   "metadata": {},
   "source": [
    "\n",
    "Working with streams directly is usually not convenient. We have bunch of abstraction classes that simplify reading specific types of data from streams (and maybe some other sources).\n",
    "\n",
    "The most low-level of them are the [`System.IO.BinaryReader`](https://learn.microsoft.com/en-us/dotnet/api/system.io.binaryreader) and [`System.IO.BinaryWriter`](https://learn.microsoft.com/en-us/dotnet/api/system.io.binarywriter) classes.\n",
    "\n",
    "They simplify reading and writing of simple data types (like boolean and numerics) from and to binary files.\n",
    "\n",
    "But what you'll probably use most are the `TextReader` and `TextWriter` classes. These are abstract classes that simplify reading and writing of text strings. Their implementations are `StreamReader` and `StreamWriter` (for working with streams) and `StringReader` and `StringWriter` (for working with strings the same way).\n",
    "\n",
    "> **Note:** There are various other classes called _reader_ in .NET. Like `System.Xml.XmlReader` or `System.Text.Json.Utf8JsonReader`. They are not related to what we discussed here.\n",
    "\n",
    "Let's use these classes to write and read some lines:"
   ]
  },
  {
   "cell_type": "code",
   "execution_count": 25,
   "metadata": {
    "dotnet_interactive": {
     "language": "csharp"
    },
    "polyglot_notebook": {
     "kernelName": "csharp"
    },
    "vscode": {
     "languageId": "polyglot-notebook"
    }
   },
   "outputs": [
    {
     "name": "stdout",
     "output_type": "stream",
     "text": [
      "  1: This is line number 1.\n",
      "  2: This is line number 2.\n",
      "  3: This is line number 3.\n",
      "  4: This is line number 4.\n",
      "  5: This is line number 5.\n",
      "  6: This is line number 6.\n",
      "  7: This is line number 7.\n",
      "  8: This is line number 8.\n",
      "  9: This is line number 9.\n"
     ]
    }
   ],
   "source": [
    "var w = File.CreateText(\"reader-writer.txt\");\n",
    "for(var i = 1; i < 10; i++) {\n",
    "    w.WriteLine($\"This is line number {i}.\");\n",
    "}\n",
    "w.Close();\n",
    "\n",
    "var r = File.OpenText(\"reader-writer.txt\");\n",
    "var lineNumber = 0;\n",
    "while(!r.EndOfStream) {\n",
    "    var line = r.ReadLine();\n",
    "    lineNumber++;\n",
    "    Console.WriteLine($\"{lineNumber,3}: {line}\");\n",
    "}\n",
    "r.Close();"
   ]
  },
  {
   "cell_type": "markdown",
   "metadata": {},
   "source": [
    "> **Note:** With regard of `CRLF` and `LF`, the `WriteLine` and `ReadLine` behave exactly the same way like `WriteAllLines` and `ReadAllLines` do. Which is only logical, because the later use the former.\n",
    "\n",
    "We can read the data character-by-character using the `Read` method, which will return the current character and move cursor to the next one. The `Peek` method returns next character (as `int`) or `-1` if no character is available -- and won't move the cursor."
   ]
  },
  {
   "cell_type": "code",
   "execution_count": 26,
   "metadata": {
    "dotnet_interactive": {
     "language": "csharp"
    },
    "polyglot_notebook": {
     "kernelName": "csharp"
    },
    "vscode": {
     "languageId": "polyglot-notebook"
    }
   },
   "outputs": [
    {
     "name": "stdout",
     "output_type": "stream",
     "text": [
      "This is line number 1.\n",
      "This is line number 2.\n",
      "This is line number 3.\n",
      "This is line number 4.\n",
      "This is line number 5.\n",
      "This is line number 6.\n",
      "This is line number 7.\n",
      "This is line number 8.\n",
      "This is line number 9.\n"
     ]
    }
   ],
   "source": [
    "var r = File.OpenText(\"reader-writer.txt\");\n",
    "while(r.Peek() != -1) {\n",
    "    var c = (char)r.Read();\n",
    "    Console.Write(c);\n",
    "}\n",
    "r.Close();"
   ]
  },
  {
   "cell_type": "markdown",
   "metadata": {},
   "source": [
    "### Methods of the File class"
   ]
  },
  {
   "cell_type": "markdown",
   "metadata": {},
   "source": [
    "\n",
    "The `System.IO.File` class has a bunch of methods to work with file data:\n",
    "\n",
    "* **Binary access** (uses `FileStream`)\n",
    "  * `Open` - the most universal method that can open file in any mode, depending on `FileMode` value\n",
    "  * `Create` - create file, overwrite if exists\n",
    "  * `OpenRead` - open for reading, fail if does not exist\n",
    "  * `OpenWrite` - open for writing, create if not exist\n",
    "* **Text access** (uses `StreamReader` or `StreamWriter`)\n",
    "  * `CreateText` - create file, overwrite if exists\n",
    "  * `OpenText` - open for reading, fail if does not exist\n",
    "  * `AppendText` - open for appending, create if not exist"
   ]
  }
 ],
 "metadata": {
  "language_info": {
   "name": "csharp"
  },
  "orig_nbformat": 4
 },
 "nbformat": 4,
 "nbformat_minor": 2
}
