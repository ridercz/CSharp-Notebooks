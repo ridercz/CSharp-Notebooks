{
 "cells": [
  {
   "cell_type": "markdown",
   "metadata": {},
   "source": [
    "# Using the `System.IO.Path` class"
   ]
  },
  {
   "cell_type": "markdown",
   "metadata": {},
   "source": [
    "## File system information\n",
    "\n",
    "The Path class holds information about the current file and operating system features and limitations:"
   ]
  },
  {
   "cell_type": "code",
   "execution_count": 9,
   "metadata": {
    "dotnet_interactive": {
     "language": "csharp"
    },
    "polyglot_notebook": {
     "kernelName": "csharp"
    },
    "vscode": {
     "languageId": "polyglot-notebook"
    }
   },
   "outputs": [
    {
     "name": "stdout",
     "output_type": "stream",
     "text": [
      "VolumeSeparatorChar:       :\n",
      "DirectorySeparatorChar:    \\\n",
      "AltDirectorySeparatorChar: /\n",
      "PathSeparator:             ;\n",
      "InvalidFileNameChars:      \" < > | 0x00 0x01 0x02 0x03 0x04 0x05 0x06 0x07 0x08 0x09 0x0A 0x0B 0x0C 0x0D 0x0E 0x0F 0x10 0x11 0x12 0x13 0x14 0x15 0x16 0x17 0x18 0x19 0x1A 0x1B 0x1C 0x1D 0x1E 0x1F : * ? \\ / \n"
     ]
    }
   ],
   "source": [
    "using System.IO;\n",
    "\n",
    "Console.WriteLine($\"VolumeSeparatorChar:       {Path.VolumeSeparatorChar}\");\n",
    "Console.WriteLine($\"DirectorySeparatorChar:    {Path.DirectorySeparatorChar}\");\n",
    "Console.WriteLine($\"AltDirectorySeparatorChar: {Path.AltDirectorySeparatorChar}\");\n",
    "Console.WriteLine($\"PathSeparator:             {Path.PathSeparator}\");\n",
    "Console.WriteLine($\"InvalidFileNameChars:      {CharsToString(Path.GetInvalidFileNameChars())}\");\n",
    "\n",
    "string CharsToString(IEnumerable<char> chars) {\n",
    "    var sb = new System.Text.StringBuilder();\n",
    "    foreach(var c in chars){\n",
    "        if(char.IsControl(c)) {\n",
    "            sb.AppendFormat(\"0x{0:X2}\", (int)c);\n",
    "        } else {\n",
    "            sb.Append(c);\n",
    "        }\n",
    "        sb.Append(\" \");\n",
    "    }\n",
    "    return sb.ToString();\n",
    "}\n",
    "\n"
   ]
  },
  {
   "cell_type": "markdown",
   "metadata": {},
   "source": [
    "> _Please note:_ The `PathSeparator` fields refers to characted used in environment variables like `%PATH%` to separate multiple search paths."
   ]
  },
  {
   "cell_type": "markdown",
   "metadata": {},
   "source": [
    "## Splitting and joining paths\n",
    "\n",
    "You can split file or directory name to its parts:"
   ]
  },
  {
   "cell_type": "code",
   "execution_count": 10,
   "metadata": {
    "dotnet_interactive": {
     "language": "csharp"
    },
    "polyglot_notebook": {
     "kernelName": "csharp"
    },
    "vscode": {
     "languageId": "polyglot-notebook"
    }
   },
   "outputs": [
    {
     "name": "stdout",
     "output_type": "stream",
     "text": [
      "Directory name:              C:\\Users\\Altair\\Source\\Repos\\CSharp-Notebooks\\Concepts\n",
      "Has extension:               True\n",
      "Extension:                   .ipnyb\n",
      "File name:                   Path.ipnyb\n",
      "File name without extension: Path\n",
      "Path root:                   C:\\\n",
      "Is fully qualified:          True\n",
      "Is rooted:                   True\n"
     ]
    }
   ],
   "source": [
    "using System.IO;\n",
    "\n",
    "var path = @\"C:\\Users\\Altair\\Source\\Repos\\CSharp-Notebooks\\Concepts\\Path.ipnyb\";\n",
    "\n",
    "Console.WriteLine($\"Directory name:              {Path.GetDirectoryName(path)}\");\n",
    "Console.WriteLine($\"Has extension:               {Path.HasExtension(path)}\");\n",
    "Console.WriteLine($\"Extension:                   {Path.GetExtension(path)}\");\n",
    "Console.WriteLine($\"File name:                   {Path.GetFileName(path)}\");\n",
    "Console.WriteLine($\"File name without extension: {Path.GetFileNameWithoutExtension(path)}\");\n",
    "Console.WriteLine($\"Path root:                   {Path.GetPathRoot(path)}\");\n",
    "Console.WriteLine($\"Is fully qualified:          {Path.IsPathFullyQualified(path)}\");\n",
    "Console.WriteLine($\"Is rooted:                   {Path.IsPathRooted(path)}\");"
   ]
  },
  {
   "cell_type": "markdown",
   "metadata": {},
   "source": [
    "You can use methods like `Join` or `Combine` to construct paths in a way that fits the operating system you are running on:"
   ]
  },
  {
   "cell_type": "code",
   "execution_count": 11,
   "metadata": {
    "dotnet_interactive": {
     "language": "csharp"
    },
    "polyglot_notebook": {
     "kernelName": "csharp"
    },
    "vscode": {
     "languageId": "polyglot-notebook"
    }
   },
   "outputs": [
    {
     "data": {
      "text/plain": [
       "C:\\Users\\Altair\\Source\\Repos\\CSharp-Notebooks\\Concepts\\otherfolder\\somefile.txt"
      ]
     },
     "metadata": {},
     "output_type": "display_data"
    }
   ],
   "source": [
    "Path.Join(Path.GetDirectoryName(path), \"otherfolder\", \"somefile.txt\")"
   ]
  },
  {
   "cell_type": "markdown",
   "metadata": {},
   "source": [
    "## Working with temporary files\n",
    "\n",
    "You can use the Path class to work with temporary files. You can get the location of temporary folder:"
   ]
  },
  {
   "cell_type": "code",
   "execution_count": 12,
   "metadata": {
    "dotnet_interactive": {
     "language": "csharp"
    },
    "polyglot_notebook": {
     "kernelName": "csharp"
    },
    "vscode": {
     "languageId": "polyglot-notebook"
    }
   },
   "outputs": [
    {
     "data": {
      "text/plain": [
       "C:\\Users\\Altair\\AppData\\Local\\Temp\\"
      ]
     },
     "metadata": {},
     "output_type": "display_data"
    }
   ],
   "source": [
    "Path.GetTempPath()"
   ]
  },
  {
   "cell_type": "markdown",
   "metadata": {},
   "source": [
    "If you need some temporary file, the `GetTempFileName` will create one empty for you and then will return its name:"
   ]
  },
  {
   "cell_type": "code",
   "execution_count": 17,
   "metadata": {
    "dotnet_interactive": {
     "language": "csharp"
    },
    "polyglot_notebook": {
     "kernelName": "csharp"
    },
    "vscode": {
     "languageId": "polyglot-notebook"
    }
   },
   "outputs": [
    {
     "data": {
      "text/plain": [
       "C:\\Users\\Altair\\AppData\\Local\\Temp\\tmpF945.tmp"
      ]
     },
     "metadata": {},
     "output_type": "display_data"
    }
   ],
   "source": [
    "var tempFileName = Path.GetTempFileName();\n",
    "tempFileName.Display();\n",
    "File.Delete(tempFileName);"
   ]
  },
  {
   "cell_type": "markdown",
   "metadata": {},
   "source": [
    "The `GetRandomFileName` will generate random valid name of file or folder, but won't create it:"
   ]
  },
  {
   "cell_type": "code",
   "execution_count": 20,
   "metadata": {
    "dotnet_interactive": {
     "language": "csharp"
    },
    "polyglot_notebook": {
     "kernelName": "csharp"
    },
    "vscode": {
     "languageId": "polyglot-notebook"
    }
   },
   "outputs": [
    {
     "name": "stdout",
     "output_type": "stream",
     "text": [
      "rtuu0pjo.lyl\n",
      "mtzhepws.yfd\n",
      "wmxa4hfq.1jh\n",
      "mxkopp2o.0e3\n",
      "sbt4v544.1km\n"
     ]
    }
   ],
   "source": [
    "for(var i = 0; i < 5; i++) {\n",
    "    Console.WriteLine(Path.GetRandomFileName());\n",
    "}"
   ]
  },
  {
   "cell_type": "markdown",
   "metadata": {},
   "source": [
    "## Working with other special folders\n",
    "\n",
    "If you need to know some other special folders (they are not called _directories_ here), you can find them not in the `Path` class, like the location of temporary folder, but using the `System.Environment.GetFolderPath` method. It accepts the `SpecialFolder` enumeration, listing various special system locations:"
   ]
  },
  {
   "cell_type": "code",
   "execution_count": 21,
   "metadata": {
    "dotnet_interactive": {
     "language": "csharp"
    },
    "polyglot_notebook": {
     "kernelName": "csharp"
    },
    "vscode": {
     "languageId": "polyglot-notebook"
    }
   },
   "outputs": [
    {
     "name": "stdout",
     "output_type": "stream",
     "text": [
      "AdminTools: C:\\Users\\Altair\\AppData\\Roaming\\Microsoft\\Windows\\Start Menu\\Programs\\Administrative Tools\n",
      "ApplicationData: C:\\Users\\Altair\\AppData\\Roaming\n",
      "CDBurning: C:\\Users\\Altair\\AppData\\Local\\Microsoft\\Windows\\Burn\\Burn\n",
      "CommonAdminTools: C:\\ProgramData\\Microsoft\\Windows\\Start Menu\\Programs\\Administrative Tools\n",
      "CommonApplicationData: C:\\ProgramData\n",
      "CommonDesktopDirectory: C:\\Users\\Public\\Desktop\n",
      "CommonDocuments: C:\\Users\\Public\\Documents\n",
      "CommonMusic: C:\\Users\\Public\\Music\n",
      "CommonOemLinks: \n",
      "CommonPictures: C:\\Users\\Public\\Pictures\n",
      "CommonProgramFiles: C:\\Program Files\\Common Files\n",
      "CommonProgramFilesX86: C:\\Program Files (x86)\\Common Files\n",
      "CommonPrograms: C:\\ProgramData\\Microsoft\\Windows\\Start Menu\\Programs\n",
      "CommonStartMenu: C:\\ProgramData\\Microsoft\\Windows\\Start Menu\n",
      "CommonStartup: C:\\ProgramData\\Microsoft\\Windows\\Start Menu\\Programs\\Startup\n",
      "CommonTemplates: C:\\ProgramData\\Microsoft\\Windows\\Templates\n",
      "CommonVideos: C:\\Users\\Public\\Videos\n",
      "Cookies: C:\\Users\\Altair\\AppData\\Local\\Microsoft\\Windows\\INetCookies\n",
      "Desktop: C:\\Users\\Altair\\Desktop\n",
      "DesktopDirectory: C:\\Users\\Altair\\Desktop\n",
      "Favorites: C:\\Users\\Altair\\Favorites\n",
      "Fonts: C:\\WINDOWS\\Fonts\n",
      "History: C:\\Users\\Altair\\AppData\\Local\\Microsoft\\Windows\\History\n",
      "InternetCache: C:\\Users\\Altair\\AppData\\Local\\Microsoft\\Windows\\INetCache\n",
      "LocalApplicationData: C:\\Users\\Altair\\AppData\\Local\n",
      "LocalizedResources: \n",
      "MyComputer: \n",
      "MyDocuments: C:\\Users\\Altair\\Documents\n",
      "MyMusic: C:\\Users\\Altair\\Music\n",
      "MyPictures: C:\\Users\\Altair\\Pictures\n",
      "MyVideos: C:\\Users\\Altair\\Videos\n",
      "NetworkShortcuts: C:\\Users\\Altair\\AppData\\Roaming\\Microsoft\\Windows\\Network Shortcuts\n",
      "Personal: C:\\Users\\Altair\\Documents\n",
      "PrinterShortcuts: \n",
      "ProgramFiles: C:\\Program Files\n",
      "ProgramFilesX86: C:\\Program Files (x86)\n",
      "Programs: C:\\Users\\Altair\\AppData\\Roaming\\Microsoft\\Windows\\Start Menu\\Programs\n",
      "Recent: C:\\Users\\Altair\\AppData\\Roaming\\Microsoft\\Windows\\Recent\n",
      "Resources: C:\\WINDOWS\\resources\n",
      "SendTo: C:\\Users\\Altair\\AppData\\Roaming\\Microsoft\\Windows\\SendTo\n",
      "StartMenu: C:\\Users\\Altair\\AppData\\Roaming\\Microsoft\\Windows\\Start Menu\n",
      "Startup: C:\\Users\\Altair\\AppData\\Roaming\\Microsoft\\Windows\\Start Menu\\Programs\\Startup\n",
      "System: C:\\WINDOWS\\system32\n",
      "SystemX86: C:\\WINDOWS\\SysWOW64\n",
      "Templates: C:\\Users\\Altair\\AppData\\Roaming\\Microsoft\\Windows\\Templates\n",
      "UserProfile: C:\\Users\\Altair\n",
      "Windows: C:\\WINDOWS\n"
     ]
    }
   ],
   "source": [
    "Console.WriteLine($\"AdminTools: {Environment.GetFolderPath(Environment.SpecialFolder.AdminTools)}\");\n",
    "Console.WriteLine($\"ApplicationData: {Environment.GetFolderPath(Environment.SpecialFolder.ApplicationData)}\");\n",
    "Console.WriteLine($\"CDBurning: {Environment.GetFolderPath(Environment.SpecialFolder.CDBurning)}\");\n",
    "Console.WriteLine($\"CommonAdminTools: {Environment.GetFolderPath(Environment.SpecialFolder.CommonAdminTools)}\");\n",
    "Console.WriteLine($\"CommonApplicationData: {Environment.GetFolderPath(Environment.SpecialFolder.CommonApplicationData)}\");\n",
    "Console.WriteLine($\"CommonDesktopDirectory: {Environment.GetFolderPath(Environment.SpecialFolder.CommonDesktopDirectory)}\");\n",
    "Console.WriteLine($\"CommonDocuments: {Environment.GetFolderPath(Environment.SpecialFolder.CommonDocuments)}\");\n",
    "Console.WriteLine($\"CommonMusic: {Environment.GetFolderPath(Environment.SpecialFolder.CommonMusic)}\");\n",
    "Console.WriteLine($\"CommonOemLinks: {Environment.GetFolderPath(Environment.SpecialFolder.CommonOemLinks)}\");\n",
    "Console.WriteLine($\"CommonPictures: {Environment.GetFolderPath(Environment.SpecialFolder.CommonPictures)}\");\n",
    "Console.WriteLine($\"CommonProgramFiles: {Environment.GetFolderPath(Environment.SpecialFolder.CommonProgramFiles)}\");\n",
    "Console.WriteLine($\"CommonProgramFilesX86: {Environment.GetFolderPath(Environment.SpecialFolder.CommonProgramFilesX86)}\");\n",
    "Console.WriteLine($\"CommonPrograms: {Environment.GetFolderPath(Environment.SpecialFolder.CommonPrograms)}\");\n",
    "Console.WriteLine($\"CommonStartMenu: {Environment.GetFolderPath(Environment.SpecialFolder.CommonStartMenu)}\");\n",
    "Console.WriteLine($\"CommonStartup: {Environment.GetFolderPath(Environment.SpecialFolder.CommonStartup)}\");\n",
    "Console.WriteLine($\"CommonTemplates: {Environment.GetFolderPath(Environment.SpecialFolder.CommonTemplates)}\");\n",
    "Console.WriteLine($\"CommonVideos: {Environment.GetFolderPath(Environment.SpecialFolder.CommonVideos)}\");\n",
    "Console.WriteLine($\"Cookies: {Environment.GetFolderPath(Environment.SpecialFolder.Cookies)}\");\n",
    "Console.WriteLine($\"Desktop: {Environment.GetFolderPath(Environment.SpecialFolder.Desktop)}\");\n",
    "Console.WriteLine($\"DesktopDirectory: {Environment.GetFolderPath(Environment.SpecialFolder.DesktopDirectory)}\");\n",
    "Console.WriteLine($\"Favorites: {Environment.GetFolderPath(Environment.SpecialFolder.Favorites)}\");\n",
    "Console.WriteLine($\"Fonts: {Environment.GetFolderPath(Environment.SpecialFolder.Fonts)}\");\n",
    "Console.WriteLine($\"History: {Environment.GetFolderPath(Environment.SpecialFolder.History)}\");\n",
    "Console.WriteLine($\"InternetCache: {Environment.GetFolderPath(Environment.SpecialFolder.InternetCache)}\");\n",
    "Console.WriteLine($\"LocalApplicationData: {Environment.GetFolderPath(Environment.SpecialFolder.LocalApplicationData)}\");\n",
    "Console.WriteLine($\"LocalizedResources: {Environment.GetFolderPath(Environment.SpecialFolder.LocalizedResources)}\");\n",
    "Console.WriteLine($\"MyComputer: {Environment.GetFolderPath(Environment.SpecialFolder.MyComputer)}\");\n",
    "Console.WriteLine($\"MyDocuments: {Environment.GetFolderPath(Environment.SpecialFolder.MyDocuments)}\");\n",
    "Console.WriteLine($\"MyMusic: {Environment.GetFolderPath(Environment.SpecialFolder.MyMusic)}\");\n",
    "Console.WriteLine($\"MyPictures: {Environment.GetFolderPath(Environment.SpecialFolder.MyPictures)}\");\n",
    "Console.WriteLine($\"MyVideos: {Environment.GetFolderPath(Environment.SpecialFolder.MyVideos)}\");\n",
    "Console.WriteLine($\"NetworkShortcuts: {Environment.GetFolderPath(Environment.SpecialFolder.NetworkShortcuts)}\");\n",
    "Console.WriteLine($\"Personal: {Environment.GetFolderPath(Environment.SpecialFolder.Personal)}\");\n",
    "Console.WriteLine($\"PrinterShortcuts: {Environment.GetFolderPath(Environment.SpecialFolder.PrinterShortcuts)}\");\n",
    "Console.WriteLine($\"ProgramFiles: {Environment.GetFolderPath(Environment.SpecialFolder.ProgramFiles)}\");\n",
    "Console.WriteLine($\"ProgramFilesX86: {Environment.GetFolderPath(Environment.SpecialFolder.ProgramFilesX86)}\");\n",
    "Console.WriteLine($\"Programs: {Environment.GetFolderPath(Environment.SpecialFolder.Programs)}\");\n",
    "Console.WriteLine($\"Recent: {Environment.GetFolderPath(Environment.SpecialFolder.Recent)}\");\n",
    "Console.WriteLine($\"Resources: {Environment.GetFolderPath(Environment.SpecialFolder.Resources)}\");\n",
    "Console.WriteLine($\"SendTo: {Environment.GetFolderPath(Environment.SpecialFolder.SendTo)}\");\n",
    "Console.WriteLine($\"StartMenu: {Environment.GetFolderPath(Environment.SpecialFolder.StartMenu)}\");\n",
    "Console.WriteLine($\"Startup: {Environment.GetFolderPath(Environment.SpecialFolder.Startup)}\");\n",
    "Console.WriteLine($\"System: {Environment.GetFolderPath(Environment.SpecialFolder.System)}\");\n",
    "Console.WriteLine($\"SystemX86: {Environment.GetFolderPath(Environment.SpecialFolder.SystemX86)}\");\n",
    "Console.WriteLine($\"Templates: {Environment.GetFolderPath(Environment.SpecialFolder.Templates)}\");\n",
    "Console.WriteLine($\"UserProfile: {Environment.GetFolderPath(Environment.SpecialFolder.UserProfile)}\");\n",
    "Console.WriteLine($\"Windows: {Environment.GetFolderPath(Environment.SpecialFolder.Windows)}\");"
   ]
  }
 ],
 "metadata": {
  "language_info": {
   "name": "csharp"
  },
  "orig_nbformat": 4
 },
 "nbformat": 4,
 "nbformat_minor": 2
}
