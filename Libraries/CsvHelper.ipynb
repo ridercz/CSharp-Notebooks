{
 "cells": [
  {
   "cell_type": "markdown",
   "metadata": {},
   "source": [
    "# CsvHelper Demo"
   ]
  },
  {
   "cell_type": "markdown",
   "metadata": {},
   "source": [
    "## Initialization and preparation"
   ]
  },
  {
   "cell_type": "markdown",
   "metadata": {},
   "source": [
    "First, install the `CsvHelper` NuGet package:"
   ]
  },
  {
   "cell_type": "code",
   "execution_count": null,
   "metadata": {
    "dotnet_interactive": {
     "language": "csharp"
    },
    "vscode": {
     "languageId": "dotnet-interactive.csharp"
    }
   },
   "outputs": [
    {
     "data": {
      "text/html": [
       "<div><div></div><div></div><div><strong>Installed Packages</strong><ul><li><span>CsvHelper, 28.0.1</span></li></ul></div></div>"
      ]
     },
     "metadata": {},
     "output_type": "display_data"
    }
   ],
   "source": [
    "#r \"nuget:CsvHelper\""
   ]
  },
  {
   "cell_type": "markdown",
   "metadata": {},
   "source": [
    "Then create some sample data:"
   ]
  },
  {
   "cell_type": "code",
   "execution_count": null,
   "metadata": {
    "dotnet_interactive": {
     "language": "csharp"
    },
    "vscode": {
     "languageId": "dotnet-interactive.csharp"
    }
   },
   "outputs": [
    {
     "data": {
      "text/html": [
       "<table><thead><tr><th><i>index</i></th><th>Name</th><th>Description</th><th>Price</th><th>DateCreated</th></tr></thead><tbody><tr><td>0</td><td>Prvn&#237; položka</td><td>Popis.</td><td><div class=\"dni-plaintext\">123.45</div></td><td><span>2022-08-01 16:03:33Z</span></td></tr><tr><td>1</td><td>Druh&#225; položka</td><td>Popis položky, může obsahovat třeba i &quot;text v uvozovk&#225;ch&quot;.</td><td><div class=\"dni-plaintext\">123.45</div></td><td><span>2022-08-01 16:03:33Z</span></td></tr><tr><td>2</td><td>Třet&#237; položka</td><td>Popis může m&#237;t\r\n",
       "v&#237;c ř&#225;dků.</td><td><div class=\"dni-plaintext\">678.90</div></td><td><span>2022-08-01 16:03:33Z</span></td></tr><tr><td>3</td><td>Čtvrt&#225; položka</td><td><div class=\"dni-plaintext\">&lt;null&gt;</div></td><td><div class=\"dni-plaintext\">543.21</div></td><td><span>2022-08-01 16:03:33Z</span></td></tr></tbody></table>"
      ]
     },
     "metadata": {},
     "output_type": "display_data"
    }
   ],
   "source": [
    "public class ShopItem {\n",
    "    public string Name { get; set; }\n",
    "    public string Description { get; set; }\n",
    "    public decimal Price { get; set; }\n",
    "    public DateTime DateCreated { get; set; }\n",
    "}\n",
    "\n",
    "var items = new[] {\n",
    "    new ShopItem { \n",
    "        Name = \"První položka\", \n",
    "        Description = \"Popis.\", \n",
    "        Price = 123.45M,\n",
    "        DateCreated = DateTime.Now\n",
    "    },\n",
    "    new ShopItem { \n",
    "        Name = \"Druhá položka\", \n",
    "        Description = \"Popis položky, může obsahovat třeba i \\\"text v uvozovkách\\\".\", \n",
    "        Price = 123.45M,\n",
    "        DateCreated = DateTime.Now\n",
    "    },\n",
    "    new ShopItem { \n",
    "        Name = \"Třetí položka\", \n",
    "        Description = \"Popis může mít\\r\\nvíc řádků.\", \n",
    "        Price = 678.90M,\n",
    "        DateCreated = DateTime.Now\n",
    "    },\n",
    "    new ShopItem { \n",
    "        Name = \"Čtvrtá položka\", \n",
    "        Description = null, \n",
    "        Price = 543.21M,\n",
    "        DateCreated = DateTime.Now\n",
    "    }\n",
    "};\n",
    "\n",
    "items"
   ]
  },
  {
   "cell_type": "markdown",
   "metadata": {},
   "source": [
    "## Export to CSV"
   ]
  },
  {
   "cell_type": "code",
   "execution_count": null,
   "metadata": {
    "dotnet_interactive": {
     "language": "csharp"
    },
    "vscode": {
     "languageId": "dotnet-interactive.csharp"
    }
   },
   "outputs": [],
   "source": [
    "using System.Globalization;\n",
    "using System.IO;\n",
    "using CsvHelper;\n",
    "\n",
    "using (var writer = new StreamWriter(\"csvhelper-demo-defaults.csv\"))\n",
    "using (var csv = new CsvWriter(writer, CultureInfo.GetCultureInfo(\"cs-CZ\"))) {\n",
    "    csv.WriteRecords(items);\n",
    "}"
   ]
  },
  {
   "cell_type": "markdown",
   "metadata": {},
   "source": [
    "**See result in [`csvhelper-demo-defaults.csv`](csvhelper-demo-defaults.csv):**"
   ]
  },
  {
   "cell_type": "code",
   "execution_count": null,
   "metadata": {
    "dotnet_interactive": {
     "language": "csharp"
    },
    "vscode": {
     "languageId": "dotnet-interactive.csharp"
    }
   },
   "outputs": [
    {
     "data": {
      "text/plain": [
       "Name;Description;Price;DateCreated\r\n",
       "První položka;Popis.;123,45;01.08.2022 16:03:33\r\n",
       "Druhá položka;\"Popis položky, může obsahovat třeba i \"\"text v uvozovkách\"\".\";123,45;01.08.2022 16:03:33\r\n",
       "Třetí položka;\"Popis může mít\r\n",
       "víc řádků.\";678,90;01.08.2022 16:03:33\r\n",
       "Čtvrtá položka;;543,21;01.08.2022 16:03:33\r\n"
      ]
     },
     "metadata": {},
     "output_type": "display_data"
    }
   ],
   "source": [
    "File.ReadAllText(\"csvhelper-demo-defaults.csv\")"
   ]
  },
  {
   "cell_type": "markdown",
   "metadata": {},
   "source": [
    "### Change encoding to Windows-1250\n",
    "\n",
    "It uses default encoding (`UTF-8`) and regionally appropriate delimiters (`;`) and decimal separators (`,`). This is a problem, because Excel by default expects `Windows-1250` encoding.\n",
    "\n",
    "Current .NET does not support those legacy encodings anymore by default, so we have to install the `System.Text.Encoding.CodePages` package and register these encodings:"
   ]
  },
  {
   "cell_type": "code",
   "execution_count": null,
   "metadata": {
    "dotnet_interactive": {
     "language": "csharp"
    },
    "vscode": {
     "languageId": "dotnet-interactive.csharp"
    }
   },
   "outputs": [
    {
     "data": {
      "text/html": [
       "<div><div></div><div></div><div><strong>Installed Packages</strong><ul><li><span>System.Text.Encoding.CodePages, 6.0.0</span></li></ul></div></div>"
      ]
     },
     "metadata": {},
     "output_type": "display_data"
    }
   ],
   "source": [
    "#r \"nuget:System.Text.Encoding.CodePages\"\n",
    "\n",
    "using System.Text;\n",
    "Encoding.RegisterProvider(CodePagesEncodingProvider.Instance);"
   ]
  },
  {
   "cell_type": "markdown",
   "metadata": {
    "dotnet_interactive": {
     "language": "csharp"
    }
   },
   "source": [
    "Then we can use `Windows-1250` as encoding:"
   ]
  },
  {
   "cell_type": "code",
   "execution_count": null,
   "metadata": {
    "dotnet_interactive": {
     "language": "csharp"
    },
    "vscode": {
     "languageId": "dotnet-interactive.csharp"
    }
   },
   "outputs": [],
   "source": [
    "using CsvHelper.Configuration;\n",
    "\n",
    "var config = new CsvConfiguration(CultureInfo.GetCultureInfo(\"cs-CZ\")) {\n",
    "    Encoding = Encoding.GetEncoding(\"Windows-1250\") \n",
    "};\n",
    "\n",
    "using (var writer = new StreamWriter(\"csvhelper-demo-1250.csv\", false, config.Encoding))\n",
    "using (var csv = new CsvWriter(writer, config)) {\n",
    "    csv.WriteRecords(items);\n",
    "}"
   ]
  },
  {
   "cell_type": "markdown",
   "metadata": {},
   "source": [
    "**Now we have the [`csvhelper-demo-1250.csv`](csvhelper-demo-1250.csv) file**, which is fully compatible with Microsoft Excel in Czech environment. \n",
    "\n",
    "> However, it will be not correctly displayed here, as we expect `UTF-8` by default."
   ]
  },
  {
   "cell_type": "code",
   "execution_count": null,
   "metadata": {
    "dotnet_interactive": {
     "language": "csharp"
    },
    "vscode": {
     "languageId": "dotnet-interactive.csharp"
    }
   },
   "outputs": [
    {
     "data": {
      "text/plain": [
       "Name;Description;Price;DateCreated\r\n",
       "Prvn� polo�ka;Popis.;123,45;01.08.2022 16:03:33\r\n",
       "Druh� polo�ka;\"Popis polo�ky, m��e obsahovat t�eba i \"\"text v uvozovk�ch\"\".\";123,45;01.08.2022 16:03:33\r\n",
       "T�et� polo�ka;\"Popis m��e m�t\r\n",
       "v�c ��dk�.\";678,90;01.08.2022 16:03:33\r\n",
       "�tvrt� polo�ka;;543,21;01.08.2022 16:03:33\r\n"
      ]
     },
     "metadata": {},
     "output_type": "display_data"
    }
   ],
   "source": [
    "File.ReadAllText(\"csvhelper-demo-1250.csv\").Display();"
   ]
  },
  {
   "cell_type": "markdown",
   "metadata": {},
   "source": [
    "### Configure export options\n",
    "\n",
    "We can use the `CsvConfiguration` class to configure various aspects of data export. The most common one is setting the culture to invariant one, which changes decimal separators and field separators:"
   ]
  },
  {
   "cell_type": "code",
   "execution_count": null,
   "metadata": {
    "dotnet_interactive": {
     "language": "csharp"
    },
    "vscode": {
     "languageId": "dotnet-interactive.csharp"
    }
   },
   "outputs": [],
   "source": [
    "using (var writer = new StreamWriter(\"csvhelper-demo-invariant.csv\"))\n",
    "using (var csv = new CsvWriter(writer, CultureInfo.InvariantCulture)) {\n",
    "    csv.WriteRecords(items);\n",
    "}"
   ]
  },
  {
   "cell_type": "markdown",
   "metadata": {},
   "source": [
    "**The resulting file is [`csvhelper-demo-invariant.csv`](csvhelper-demo-invariant.csv).** Note the changes below:"
   ]
  },
  {
   "cell_type": "code",
   "execution_count": null,
   "metadata": {
    "dotnet_interactive": {
     "language": "csharp"
    },
    "vscode": {
     "languageId": "dotnet-interactive.csharp"
    }
   },
   "outputs": [
    {
     "data": {
      "text/plain": [
       "Name,Description,Price,DateCreated\r\n",
       "První položka,Popis.,123.45,08/01/2022 16:03:33\r\n",
       "Druhá položka,\"Popis položky, může obsahovat třeba i \"\"text v uvozovkách\"\".\",123.45,08/01/2022 16:03:33\r\n",
       "Třetí položka,\"Popis může mít\r\n",
       "víc řádků.\",678.90,08/01/2022 16:03:33\r\n",
       "Čtvrtá položka,,543.21,08/01/2022 16:03:33\r\n"
      ]
     },
     "metadata": {},
     "output_type": "display_data"
    }
   ],
   "source": [
    "File.ReadAllText(\"csvhelper-demo-invariant.csv\").Display();"
   ]
  },
  {
   "cell_type": "markdown",
   "metadata": {},
   "source": [
    "Of course, we can change all aspects of the export, like delimiters etc.:"
   ]
  },
  {
   "cell_type": "code",
   "execution_count": null,
   "metadata": {
    "dotnet_interactive": {
     "language": "csharp"
    },
    "vscode": {
     "languageId": "dotnet-interactive.csharp"
    }
   },
   "outputs": [],
   "source": [
    "using CsvHelper.Configuration;\n",
    "\n",
    "var config = new CsvConfiguration(CultureInfo.GetCultureInfo(\"cs-CZ\")) { \n",
    "    HasHeaderRecord = false,    // disable first row with headers\n",
    "    Delimiter = \"|\"             // use custom delimiters\n",
    "};\n",
    "\n",
    "using (var writer = new StreamWriter(\"csvhelper-demo-custom.csv\"))\n",
    "using (var csv = new CsvWriter(writer, config)) {\n",
    "    csv.WriteRecords(items);\n",
    "}"
   ]
  },
  {
   "cell_type": "markdown",
   "metadata": {},
   "source": [
    "**See the result in [`csvhelper-demo-custom.csv`](csvhelper-demo-custom.csv):**"
   ]
  },
  {
   "cell_type": "code",
   "execution_count": null,
   "metadata": {
    "dotnet_interactive": {
     "language": "csharp"
    },
    "vscode": {
     "languageId": "dotnet-interactive.csharp"
    }
   },
   "outputs": [
    {
     "data": {
      "text/plain": [
       "První položka|Popis.|123,45|01.08.2022 16:03:33\r\n",
       "Druhá položka|\"Popis položky, může obsahovat třeba i \"\"text v uvozovkách\"\".\"|123,45|01.08.2022 16:03:33\r\n",
       "Třetí položka|\"Popis může mít\r\n",
       "víc řádků.\"|678,90|01.08.2022 16:03:33\r\n",
       "Čtvrtá položka||543,21|01.08.2022 16:03:33\r\n"
      ]
     },
     "metadata": {},
     "output_type": "display_data"
    }
   ],
   "source": [
    "File.ReadAllText(\"csvhelper-demo-custom.csv\").Display();"
   ]
  },
  {
   "cell_type": "markdown",
   "metadata": {},
   "source": [
    "### Use attributes to set column order and names\n",
    "\n",
    "Lets redefine the `ShopItem` class to `ShopItem2`. We'll add the `Index` attributes to set the column order - move the description to the end. For a good measure, we'll also use `Name` to specify CSV column names.\n",
    "\n",
    "> By default, fields would be exported in the same order they are defined in the C# code. But it's not always reliable, so if the order is important, specify the index."
   ]
  },
  {
   "cell_type": "code",
   "execution_count": null,
   "metadata": {
    "dotnet_interactive": {
     "language": "csharp"
    },
    "vscode": {
     "languageId": "dotnet-interactive.csharp"
    }
   },
   "outputs": [],
   "source": [
    "using CsvHelper.Configuration.Attributes;\n",
    "\n",
    "public class ShopItem2 {\n",
    "\n",
    "    [Index(0), Name(\"item_name\")]\n",
    "    public string Name { get; set; }\n",
    "    \n",
    "    [Index(3), Name(\"description\")]\n",
    "    public string Description { get; set; }\n",
    "    \n",
    "    [Index(1), Name(\"price\")]\n",
    "    public decimal Price { get; set; }\n",
    "    \n",
    "    [Index(2), Name(\"date_created\")]\n",
    "    public DateTime DateCreated { get; set; }\n",
    "\n",
    "}\n",
    "\n",
    "var items2 = new[] {\n",
    "    new ShopItem2 { \n",
    "        Name = \"První položka\", \n",
    "        Description = \"Popis.\", \n",
    "        Price = 123.45M,\n",
    "        DateCreated = DateTime.Now\n",
    "    },\n",
    "    new ShopItem2 { \n",
    "        Name = \"Druhá položka\", \n",
    "        Description = \"Popis položky, může obsahovat třeba i \\\"text v uvozovkách\\\".\", \n",
    "        Price = 123.45M,\n",
    "        DateCreated = DateTime.Now\n",
    "    },\n",
    "    new ShopItem2 { \n",
    "        Name = \"Třetí položka\", \n",
    "        Description = \"Popis může mít\\r\\nvíc řádků.\", \n",
    "        Price = 678.90M,\n",
    "        DateCreated = DateTime.Now\n",
    "    },\n",
    "    new ShopItem2 { \n",
    "        Name = \"Čtvrtá položka\", \n",
    "        Description = null, \n",
    "        Price = 543.21M,\n",
    "        DateCreated = DateTime.Now\n",
    "    }\n",
    "};"
   ]
  },
  {
   "cell_type": "markdown",
   "metadata": {},
   "source": [
    "When we write them, the column names and order is honored:"
   ]
  },
  {
   "cell_type": "code",
   "execution_count": null,
   "metadata": {
    "dotnet_interactive": {
     "language": "csharp"
    },
    "vscode": {
     "languageId": "dotnet-interactive.csharp"
    }
   },
   "outputs": [],
   "source": [
    "using (var writer = new StreamWriter(\"csvhelper-demo-attributes.csv\"))\n",
    "using (var csv = new CsvWriter(writer, CultureInfo.GetCultureInfo(\"cs-CZ\"))) {\n",
    "    csv.WriteRecords(items2);\n",
    "}"
   ]
  },
  {
   "cell_type": "markdown",
   "metadata": {},
   "source": [
    "**See resulting file [`csvhelper-demo-attributes.csv`](csvhelper-demo-attributes.csv):**"
   ]
  },
  {
   "cell_type": "code",
   "execution_count": null,
   "metadata": {
    "dotnet_interactive": {
     "language": "csharp"
    },
    "vscode": {
     "languageId": "dotnet-interactive.csharp"
    }
   },
   "outputs": [
    {
     "data": {
      "text/plain": [
       "item_name;price;date_created;description\r\n",
       "První položka;123,45;01.08.2022 16:03:33;Popis.\r\n",
       "Druhá položka;123,45;01.08.2022 16:03:33;\"Popis položky, může obsahovat třeba i \"\"text v uvozovkách\"\".\"\r\n",
       "Třetí položka;678,90;01.08.2022 16:03:33;\"Popis může mít\r\n",
       "víc řádků.\"\r\n",
       "Čtvrtá položka;543,21;01.08.2022 16:03:33;\r\n"
      ]
     },
     "metadata": {},
     "output_type": "display_data"
    }
   ],
   "source": [
    "File.ReadAllText(\"csvhelper-demo-attributes.csv\").Display();"
   ]
  },
  {
   "cell_type": "markdown",
   "metadata": {},
   "source": [
    "## Import from CSV\n",
    "\n",
    "When importing data from CSV, we have to setup mapping between CSV columns and class properties. We can use the `[Index]` and `[Name]` attributes from above, but the most universal way is to create a mapping class. \n",
    "\n",
    "Let's have the following class, we would like to populate with data from the last CSV file [`csvhelper-demo-attributes.csv`](csvhelper-demo-attributes.csv):"
   ]
  },
  {
   "cell_type": "code",
   "execution_count": null,
   "metadata": {
    "dotnet_interactive": {
     "language": "csharp"
    },
    "vscode": {
     "languageId": "dotnet-interactive.csharp"
    }
   },
   "outputs": [],
   "source": [
    "public class ImportedItem {\n",
    "    public string Name { get; set; }\n",
    "    public string Description { get; set; }\n",
    "    public decimal Price { get; set; }\n",
    "    public DateOnly DateCreated { get; set; }\n",
    "    public TimeOnly TimeCreated { get; set; }\n",
    "}"
   ]
  },
  {
   "cell_type": "markdown",
   "metadata": {},
   "source": [
    "There are some problems we need to fix:\n",
    "\n",
    "* The property `Name` does not match to `item_name` field exactly.\n",
    "* The property `Description` is in different order than the corresponding field.\n",
    "* The `date_created` field was split into separate `DateCreated` and `TimeCreated` properties using the new `DateOnly` and `TimeOnly` types. _It does not make much sense, but it's good enough for our demonstration._\n",
    "\n",
    "We will now write a mapping class, describing how the fields are mapped to properties:"
   ]
  },
  {
   "cell_type": "code",
   "execution_count": null,
   "metadata": {
    "dotnet_interactive": {
     "language": "csharp"
    },
    "vscode": {
     "languageId": "dotnet-interactive.csharp"
    }
   },
   "outputs": [],
   "source": [
    "public class ImportedItemMap : ClassMap<ImportedItem> {\n",
    "\n",
    "    public ImportedItemMap() {\n",
    "        // Map using names, that's simple\n",
    "        this.Map(m => m.Name).Name(\"item_name\");\n",
    "        this.Map(m => m.Description).Name(\"description\");\n",
    "        this.Map(m => m.Price).Name(\"price\");\n",
    "\n",
    "        // Map using some more sophisticated algorithm\n",
    "        this.Map(m => m.DateCreated).Convert(x => DateOnly.FromDateTime(x.Row.GetField<DateTime>(\"date_created\")));\n",
    "        this.Map(m => m.TimeCreated).Convert(x => TimeOnly.FromDateTime(x.Row.GetField<DateTime>(\"date_created\")));\n",
    "    }\n",
    "\n",
    "}"
   ]
  },
  {
   "cell_type": "markdown",
   "metadata": {},
   "source": [
    "Then we can use this class to read the file in quite similar fashion we used to create it:"
   ]
  },
  {
   "cell_type": "code",
   "execution_count": null,
   "metadata": {
    "dotnet_interactive": {
     "language": "csharp"
    },
    "vscode": {
     "languageId": "dotnet-interactive.csharp"
    }
   },
   "outputs": [],
   "source": [
    "IList<ImportedItem> importedItems;\n",
    "\n",
    "using (var reader = new StreamReader(\"csvhelper-demo-attributes.csv\"))\n",
    "using (var csv = new CsvReader(reader, CultureInfo.GetCultureInfo(\"cs-CZ\"))) {\n",
    "    csv.Context.RegisterClassMap<ImportedItemMap>();\n",
    "    importedItems = csv.GetRecords<ImportedItem>().ToList();\n",
    "}"
   ]
  },
  {
   "cell_type": "markdown",
   "metadata": {},
   "source": [
    "This is the result we got:\n",
    "\n",
    "> Do not mind the complex display of `DateOnly` and `TimeOnly` types."
   ]
  },
  {
   "cell_type": "code",
   "execution_count": null,
   "metadata": {
    "dotnet_interactive": {
     "language": "csharp"
    },
    "vscode": {
     "languageId": "dotnet-interactive.csharp"
    }
   },
   "outputs": [
    {
     "data": {
      "text/html": [
       "<table><thead><tr><th><i>index</i></th><th>Name</th><th>Description</th><th>Price</th><th>DateCreated</th><th>TimeCreated</th></tr></thead><tbody><tr><td>0</td><td>Prvn&#237; položka</td><td>Popis.</td><td><div class=\"dni-plaintext\">123.45</div></td><td><table><thead><tr><th>Year</th><th>Month</th><th>Day</th><th>DayOfWeek</th><th>DayOfYear</th><th>DayNumber</th></tr></thead><tbody><tr><td><div class=\"dni-plaintext\">2022</div></td><td><div class=\"dni-plaintext\">8</div></td><td><div class=\"dni-plaintext\">1</div></td><td><div class=\"dni-plaintext\">Monday</div></td><td><div class=\"dni-plaintext\">213</div></td><td><div class=\"dni-plaintext\">738367</div></td></tr></tbody></table></td><td><table><thead><tr><th>Hour</th><th>Minute</th><th>Second</th><th>Millisecond</th><th>Ticks</th></tr></thead><tbody><tr><td><div class=\"dni-plaintext\">16</div></td><td><div class=\"dni-plaintext\">3</div></td><td><div class=\"dni-plaintext\">33</div></td><td><div class=\"dni-plaintext\">0</div></td><td><div class=\"dni-plaintext\">578130000000</div></td></tr></tbody></table></td></tr><tr><td>1</td><td>Druh&#225; položka</td><td>Popis položky, může obsahovat třeba i &quot;text v uvozovk&#225;ch&quot;.</td><td><div class=\"dni-plaintext\">123.45</div></td><td><table><thead><tr><th>Year</th><th>Month</th><th>Day</th><th>DayOfWeek</th><th>DayOfYear</th><th>DayNumber</th></tr></thead><tbody><tr><td><div class=\"dni-plaintext\">2022</div></td><td><div class=\"dni-plaintext\">8</div></td><td><div class=\"dni-plaintext\">1</div></td><td><div class=\"dni-plaintext\">Monday</div></td><td><div class=\"dni-plaintext\">213</div></td><td><div class=\"dni-plaintext\">738367</div></td></tr></tbody></table></td><td><table><thead><tr><th>Hour</th><th>Minute</th><th>Second</th><th>Millisecond</th><th>Ticks</th></tr></thead><tbody><tr><td><div class=\"dni-plaintext\">16</div></td><td><div class=\"dni-plaintext\">3</div></td><td><div class=\"dni-plaintext\">33</div></td><td><div class=\"dni-plaintext\">0</div></td><td><div class=\"dni-plaintext\">578130000000</div></td></tr></tbody></table></td></tr><tr><td>2</td><td>Třet&#237; položka</td><td>Popis může m&#237;t\r\n",
       "v&#237;c ř&#225;dků.</td><td><div class=\"dni-plaintext\">678.90</div></td><td><table><thead><tr><th>Year</th><th>Month</th><th>Day</th><th>DayOfWeek</th><th>DayOfYear</th><th>DayNumber</th></tr></thead><tbody><tr><td><div class=\"dni-plaintext\">2022</div></td><td><div class=\"dni-plaintext\">8</div></td><td><div class=\"dni-plaintext\">1</div></td><td><div class=\"dni-plaintext\">Monday</div></td><td><div class=\"dni-plaintext\">213</div></td><td><div class=\"dni-plaintext\">738367</div></td></tr></tbody></table></td><td><table><thead><tr><th>Hour</th><th>Minute</th><th>Second</th><th>Millisecond</th><th>Ticks</th></tr></thead><tbody><tr><td><div class=\"dni-plaintext\">16</div></td><td><div class=\"dni-plaintext\">3</div></td><td><div class=\"dni-plaintext\">33</div></td><td><div class=\"dni-plaintext\">0</div></td><td><div class=\"dni-plaintext\">578130000000</div></td></tr></tbody></table></td></tr><tr><td>3</td><td>Čtvrt&#225; položka</td><td></td><td><div class=\"dni-plaintext\">543.21</div></td><td><table><thead><tr><th>Year</th><th>Month</th><th>Day</th><th>DayOfWeek</th><th>DayOfYear</th><th>DayNumber</th></tr></thead><tbody><tr><td><div class=\"dni-plaintext\">2022</div></td><td><div class=\"dni-plaintext\">8</div></td><td><div class=\"dni-plaintext\">1</div></td><td><div class=\"dni-plaintext\">Monday</div></td><td><div class=\"dni-plaintext\">213</div></td><td><div class=\"dni-plaintext\">738367</div></td></tr></tbody></table></td><td><table><thead><tr><th>Hour</th><th>Minute</th><th>Second</th><th>Millisecond</th><th>Ticks</th></tr></thead><tbody><tr><td><div class=\"dni-plaintext\">16</div></td><td><div class=\"dni-plaintext\">3</div></td><td><div class=\"dni-plaintext\">33</div></td><td><div class=\"dni-plaintext\">0</div></td><td><div class=\"dni-plaintext\">578130000000</div></td></tr></tbody></table></td></tr></tbody></table>"
      ]
     },
     "metadata": {},
     "output_type": "display_data"
    }
   ],
   "source": [
    "importedItems.Display();"
   ]
  },
  {
   "cell_type": "markdown",
   "metadata": {},
   "source": [
    "## Additional resources\n",
    "\n",
    "This is just a small portion of what CsvHelper can do. For further information see:\n",
    "\n",
    "* [CsvHelper site](https://joshclose.github.io/CsvHelper/)\n",
    "* [Getting Started](https://joshclose.github.io/CsvHelper/getting-started/)\n",
    "* [Examples](https://joshclose.github.io/CsvHelper/examples/)\n",
    "\n",
    "Sadly, there is no official [API reference documentation](https://joshclose.github.io/CsvHelper/api/) (yet?), but the above resources are enough for usual cases."
   ]
  },
  {
   "cell_type": "markdown",
   "metadata": {},
   "source": [
    "## Cleanup\n",
    "\n",
    "The following cell will delete all files created by this notebook."
   ]
  },
  {
   "cell_type": "code",
   "execution_count": null,
   "metadata": {
    "dotnet_interactive": {
     "language": "csharp"
    },
    "vscode": {
     "languageId": "dotnet-interactive.csharp"
    }
   },
   "outputs": [
    {
     "name": "stdout",
     "output_type": "stream",
     "text": [
      "Deleting files:\r\n",
      "csvhelper-demo-1250.csv\r\n",
      "csvhelper-demo-attributes.csv\r\n",
      "csvhelper-demo-custom.csv\r\n",
      "csvhelper-demo-defaults.csv\r\n",
      "csvhelper-demo-invariant.csv\r\n"
     ]
    }
   ],
   "source": [
    "Console.WriteLine(\"Deleting files:\");\n",
    "var di = new DirectoryInfo(\".\");\n",
    "foreach (var fi in di.GetFiles(\"csvhelper-demo-*.csv\")) {\n",
    "    fi.Delete();\n",
    "    Console.WriteLine(fi.Name);\n",
    "}"
   ]
  }
 ],
 "metadata": {
  "kernelspec": {
   "display_name": ".NET (C#)",
   "language": "C#",
   "name": ".net-csharp"
  },
  "language_info": {
   "file_extension": ".cs",
   "mimetype": "text/x-csharp",
   "name": "C#",
   "pygments_lexer": "csharp",
   "version": "9.0"
  },
  "orig_nbformat": 4
 },
 "nbformat": 4,
 "nbformat_minor": 2
}
